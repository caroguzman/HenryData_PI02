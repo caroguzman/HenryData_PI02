{
 "cells": [
  {
   "cell_type": "code",
   "execution_count": null,
   "metadata": {},
   "outputs": [],
   "source": [
    "import requests\n",
    "import pandas as pd\n",
    "import matplotlib.pyplot as plt"
   ]
  },
  {
   "cell_type": "code",
   "execution_count": null,
   "metadata": {},
   "outputs": [],
   "source": [
    "#Penetración por hogares nacional de movil\n",
    "url='http://api.datosabiertos.enacom.gob.ar/api/v2/datastreams/PENET-NACIO-DE-LA-TELEF/data.csv/?auth_key=RKr6TWdOT7bxnBCViowuv19R4PJ2q4lfyU5LDYJ2'\n",
    "response=requests.get(url)\n",
    "if response.status_code == 200:\n",
    "    with open('./Datasets/penetracion_movil.csv', 'wb') as file:\n",
    "        file.write(response.content)\n",
    "        print('Archivo guardado exitosamente.')\n"
   ]
  },
  {
   "cell_type": "code",
   "execution_count": null,
   "metadata": {},
   "outputs": [],
   "source": [
    "#Penetración nacional de internet\n",
    "url='http://api.datosabiertos.enacom.gob.ar/api/v2/datastreams/PENET-POR-HOGAR-NACIO-DEL/data.csv/?auth_key=fmYHbXbTxX11tfCbKaC125pSyNunqx3GfCJ0UuYN'\n",
    "response=requests.get(url)\n",
    "if response.status_code == 200:\n",
    "    with open('./Datasets/Internet_Penetracion.csv', 'wb') as file:\n",
    "        file.write(response.content)\n",
    "        print('Archivo guardado exitosamente.')\n",
    "else:\n",
    "    print(response.status_code)\n"
   ]
  },
  {
   "cell_type": "code",
   "execution_count": null,
   "metadata": {},
   "outputs": [],
   "source": [
    "#Cargamos los datos en dataset para unificarlos y luego realizar comparaciones\n",
    "# Cargar el archivo CSV en un DataFrame\n",
    "df_penetracion_movil = pd.read_csv('./Datasets/penetracion_movil.csv',  encoding='utf-8')\n",
    "df_penetracion_internet = pd.read_csv('./Datasets/Internet_Penetracion.csv',  encoding='utf-8')"
   ]
  },
  {
   "cell_type": "code",
   "execution_count": null,
   "metadata": {},
   "outputs": [],
   "source": [
    "#inspeccionamos los datasets\n",
    "df_penetracion_movil.head(5)"
   ]
  },
  {
   "cell_type": "code",
   "execution_count": null,
   "metadata": {},
   "outputs": [],
   "source": [
    "#inspeccionamos los datasets\n",
    "df_penetracion_internet.head(5)"
   ]
  },
  {
   "cell_type": "code",
   "execution_count": null,
   "metadata": {},
   "outputs": [],
   "source": [
    "df_penetracion_internet.drop(columns='Accesos por cada 100 hogares', axis=0, inplace=True)\n",
    "df_penetracion_internet.head(5)"
   ]
  },
  {
   "cell_type": "code",
   "execution_count": null,
   "metadata": {},
   "outputs": [],
   "source": [
    " # Checkeamos Nulos por columna\n",
    "df_penetracion_movil['Periodo'].isna().sum() "
   ]
  },
  {
   "cell_type": "code",
   "execution_count": null,
   "metadata": {},
   "outputs": [],
   "source": [
    " # Checkeamos Nulos por columna\n",
    "df_penetracion_internet['Accesos por cada 100 hab'].isna().sum() "
   ]
  },
  {
   "cell_type": "code",
   "execution_count": null,
   "metadata": {},
   "outputs": [],
   "source": [
    "df_penetracion_movil.shape"
   ]
  },
  {
   "cell_type": "code",
   "execution_count": null,
   "metadata": {},
   "outputs": [],
   "source": [
    "df_penetracion_movil.dtypes"
   ]
  },
  {
   "cell_type": "code",
   "execution_count": null,
   "metadata": {},
   "outputs": [],
   "source": [
    "df_penetracion_internet.shape"
   ]
  },
  {
   "cell_type": "code",
   "execution_count": null,
   "metadata": {},
   "outputs": [],
   "source": [
    "df_penetracion_internet.dtypes"
   ]
  },
  {
   "cell_type": "code",
   "execution_count": null,
   "metadata": {},
   "outputs": [],
   "source": [
    "df_penetracion_movil_filtrado = df_penetracion_movil[(df_penetracion_movil['Año'] >=2018) & (df_penetracion_movil['Año']<=2022)]\n",
    "df_penetracion_movil_filtrado.shape"
   ]
  },
  {
   "cell_type": "code",
   "execution_count": null,
   "metadata": {},
   "outputs": [],
   "source": [
    "df_penetracion_movil_filtrado\n"
   ]
  },
  {
   "cell_type": "code",
   "execution_count": null,
   "metadata": {},
   "outputs": [],
   "source": [
    "df_penetracion_internet_filtrado = df_penetracion_internet[(df_penetracion_internet['Año'] >=2018) & (df_penetracion_internet['Año']<=2022)]\n",
    "df_penetracion_internet_filtrado.shape"
   ]
  },
  {
   "cell_type": "code",
   "execution_count": null,
   "metadata": {},
   "outputs": [],
   "source": [
    "#graficar la relación\n",
    "# Crear la figura y los ejes\n",
    "fig, ax = plt.subplots()\n",
    "\n",
    "# Trazar las líneas de las variables\n",
    "ax.plot(df_penetracion_internet_filtrado['Año'], df_penetracion_internet_filtrado['Accesos por cada 100 hab'], label='Penetración Internet')\n",
    "ax.plot(df_penetracion_movil_filtrado['Año'], df_penetracion_movil_filtrado['Accesos por cada 100 hab'], label='Penetración Móvil')\n",
    "\n",
    "# Etiquetas de los ejes y título\n",
    "ax.set_xlabel('Eje X')\n",
    "ax.set_ylabel('Eje Y')\n",
    "ax.set_title('Gráfica de Líneas')\n",
    "\n",
    "# Mostrar la leyenda\n",
    "ax.legend()\n",
    "\n",
    "# Mostrar la gráfica\n",
    "plt.show()"
   ]
  }
 ],
 "metadata": {
  "language_info": {
   "name": "python"
  },
  "orig_nbformat": 4
 },
 "nbformat": 4,
 "nbformat_minor": 2
}
